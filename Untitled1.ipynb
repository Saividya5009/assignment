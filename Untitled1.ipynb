{
  "nbformat": 4,
  "nbformat_minor": 0,
  "metadata": {
    "colab": {
      "name": "Untitled1.ipynb",
      "provenance": [],
      "collapsed_sections": [],
      "authorship_tag": "ABX9TyMvaT2KhjB/pdhp0e/OsqmW",
      "include_colab_link": true
    },
    "kernelspec": {
      "name": "python3",
      "display_name": "Python 3"
    }
  },
  "cells": [
    {
      "cell_type": "markdown",
      "metadata": {
        "id": "view-in-github",
        "colab_type": "text"
      },
      "source": [
        "<a href=\"https://colab.research.google.com/github/Saividya5009/assignment/blob/master/Untitled1.ipynb\" target=\"_parent\"><img src=\"https://colab.research.google.com/assets/colab-badge.svg\" alt=\"Open In Colab\"/></a>"
      ]
    },
    {
      "cell_type": "markdown",
      "metadata": {
        "id": "ONWyIz1nVh0L",
        "colab_type": "text"
      },
      "source": [
        "1.write a pyhton program to print the following string in a specific format."
      ]
    },
    {
      "cell_type": "code",
      "metadata": {
        "id": "x8ytCK-PVwes",
        "colab_type": "code",
        "colab": {
          "base_uri": "https://localhost:8080/",
          "height": 119
        },
        "outputId": "c172f9c7-9163-49a0-fb10-4e2837ae7ef3"
      },
      "source": [
        "print(\"Twinkle, twinkle, little star, \\n\\tHow I wonder what you are! \\n\\t\\tUp above the world so high, \\n\\t\\tLike a diamond in the sky. \\nTwinkle, twinkle, little star, \\n\\tHow I wonder what you are!\")\n",
        "\n"
      ],
      "execution_count": null,
      "outputs": [
        {
          "output_type": "stream",
          "text": [
            "Twinkle, twinkle, little star, \n",
            "\tHow I wonder what you are! \n",
            "\t\tUp above the world so high, \n",
            "\t\tLike a diamond in the sky. \n",
            "Twinkle, twinkle, little star, \n",
            "\tHow I wonder what you are!\n"
          ],
          "name": "stdout"
        }
      ]
    },
    {
      "cell_type": "markdown",
      "metadata": {
        "id": "W7g8yRQmXJpU",
        "colab_type": "text"
      },
      "source": [
        "2.Write a Python program to test whether a number is within 100 of 1000 or 2000."
      ]
    },
    {
      "cell_type": "code",
      "metadata": {
        "id": "GExgneeaXPMe",
        "colab_type": "code",
        "colab": {
          "base_uri": "https://localhost:8080/",
          "height": 51
        },
        "outputId": "e1968355-181f-419e-9a62-e39d24fcdc50"
      },
      "source": [
        "def number(n):\n",
        "  return((abs(1000-n<=100))or(abs(2000-n<=100)))\n",
        "print(number(200))\n",
        "print(number(2049))"
      ],
      "execution_count": null,
      "outputs": [
        {
          "output_type": "stream",
          "text": [
            "0\n",
            "1\n"
          ],
          "name": "stdout"
        }
      ]
    },
    {
      "cell_type": "markdown",
      "metadata": {
        "id": "FeTD1XYIaIHE",
        "colab_type": "text"
      },
      "source": [
        "3. Write a Python program to calculate the sum of three given numbers, if the values are equal\n",
        "then return three times of their sum.\n"
      ]
    },
    {
      "cell_type": "code",
      "metadata": {
        "id": "2YVs0lphaQgt",
        "colab_type": "code",
        "colab": {
          "base_uri": "https://localhost:8080/",
          "height": 85
        },
        "outputId": "c6c0466a-40df-4ea7-8eee-4e379bd0364b"
      },
      "source": [
        "x=int(input(\"enter the number\"))\n",
        "y=int(input(\"enter the number\"))\n",
        "z=int(input(\"enter the number\"))\n",
        "sum1=x + y + z\n",
        "if(x==y==z):\n",
        "  sum=sum1*3\n",
        "  print(\"sum\")\n",
        "else:\n",
        "  print(sum1)"
      ],
      "execution_count": null,
      "outputs": [
        {
          "output_type": "stream",
          "text": [
            "enter the number3\n",
            "enter the number3\n",
            "enter the number3\n",
            "sum\n"
          ],
          "name": "stdout"
        }
      ]
    },
    {
      "cell_type": "markdown",
      "metadata": {
        "id": "rN1JVKZDcwNN",
        "colab_type": "text"
      },
      "source": [
        "4. Write a Python program to find whether a given number (accept from the user) is even or\n",
        "odd, print out an appropriate message to the user."
      ]
    },
    {
      "cell_type": "code",
      "metadata": {
        "id": "M85kxz83c2zu",
        "colab_type": "code",
        "colab": {
          "base_uri": "https://localhost:8080/",
          "height": 51
        },
        "outputId": "2d30334c-3a79-4de0-97c4-074d92a7d523"
      },
      "source": [
        "num=int(input(\"enter the number\"))\n",
        "flag=num%2\n",
        "if(flag==0):\n",
        "  print(\"even number\")\n",
        "else:\n",
        "  print(\"odd number\")"
      ],
      "execution_count": null,
      "outputs": [
        {
          "output_type": "stream",
          "text": [
            "enter the number23\n",
            "odd number\n"
          ],
          "name": "stdout"
        }
      ]
    },
    {
      "cell_type": "markdown",
      "metadata": {
        "id": "f-HgHZ6eepUP",
        "colab_type": "text"
      },
      "source": [
        "5. Write a Python program to get a string made of the first 2 and the last 2 chars from a given\n",
        "string. If the string length is less than 2, return instead of the empty string.\n"
      ]
    },
    {
      "cell_type": "code",
      "metadata": {
        "id": "xDSlGab-evSG",
        "colab_type": "code",
        "colab": {
          "base_uri": "https://localhost:8080/",
          "height": 34
        },
        "outputId": "18d1d4d5-3960-4596-adf5-e8c1c873f917"
      },
      "source": [
        "def string(str):\n",
        "  if(len(str)<2):\n",
        "    return ''\n",
        "  else:\n",
        "    return(str[0:2]+str[-2:])\n",
        "print(string(\"corona holidays\"))"
      ],
      "execution_count": null,
      "outputs": [
        {
          "output_type": "stream",
          "text": [
            "coys\n"
          ],
          "name": "stdout"
        }
      ]
    },
    {
      "cell_type": "markdown",
      "metadata": {
        "id": "ffw_pmRxkR1-",
        "colab_type": "text"
      },
      "source": [
        "6. Write a Python program to get a single string from two given strings, separated by a space\n",
        "and swap the first two characters of each string."
      ]
    },
    {
      "cell_type": "code",
      "metadata": {
        "id": "x1F_LD9pkYgp",
        "colab_type": "code",
        "colab": {
          "base_uri": "https://localhost:8080/",
          "height": 68
        },
        "outputId": "45b7797e-c709-498c-9352-a8a45b32c6f4"
      },
      "source": [
        "string1=str(input(\"enter the string\"))\n",
        "string2=str(input(\"enter the string\"))\n",
        "newstring1=string2[:2]+string1[2:]\n",
        "newstring2=string1[:2]+string2[2:]\n",
        "print(newstring1+' '+newstring2)\n"
      ],
      "execution_count": null,
      "outputs": [
        {
          "output_type": "stream",
          "text": [
            "enter the stringtwo\n",
            "enter the stringgirls\n",
            "gio twrls\n"
          ],
          "name": "stdout"
        }
      ]
    },
    {
      "cell_type": "markdown",
      "metadata": {
        "id": "HeQwZKPYnBaG",
        "colab_type": "text"
      },
      "source": [
        "7. Write a Python program to find the first appearance of the substring 'not' and 'poor' from a\n",
        "given string, if 'not' follows the 'poor', replace the whole 'not'...'poor' substring with 'good'.\n",
        "Return the resulting string"
      ]
    },
    {
      "cell_type": "code",
      "metadata": {
        "id": "J4Ux-ltK2hkJ",
        "colab_type": "code",
        "colab": {
          "base_uri": "https://localhost:8080/",
          "height": 51
        },
        "outputId": "462d7870-5cb3-4b61-b8d5-47c9088b9cc5"
      },
      "source": [
        "def not_poor(str1):\n",
        "  snot = str1.find('not')\n",
        "  spoor = str1.find('poor')\n",
        "  if spoor > snot and snot>0 and spoor>0:\n",
        "    str1 = str1.replace(str1[snot:(spoor+4)], 'good')\n",
        "    return str1\n",
        "  else:\n",
        "    return str1\n",
        "print(not_poor('The lyrics is not that poor!'))\n",
        "print(not_poor('The lyrics is poor!'))\n"
      ],
      "execution_count": null,
      "outputs": [
        {
          "output_type": "stream",
          "text": [
            "The lyrics is good!\n",
            "The lyrics is poor!\n"
          ],
          "name": "stdout"
        }
      ]
    },
    {
      "cell_type": "markdown",
      "metadata": {
        "id": "wkQnSXmA2hUd",
        "colab_type": "text"
      },
      "source": [
        ""
      ]
    },
    {
      "cell_type": "markdown",
      "metadata": {
        "id": "itWtKeDRnWdX",
        "colab_type": "text"
      },
      "source": [
        "8. Write a Python function to reverses a string if it's length is a multiple of 4."
      ]
    },
    {
      "cell_type": "code",
      "metadata": {
        "id": "pQdrA1D6nX2j",
        "colab_type": "code",
        "colab": {
          "base_uri": "https://localhost:8080/",
          "height": 51
        },
        "outputId": "c455f3e8-30c2-49bf-f17f-3f7ee505886c"
      },
      "source": [
        "def string(str):\n",
        "  if(len(str)%4==0):\n",
        "    return(str[::-1])\n",
        "  return(str)\n",
        "print(string(\"online classes\"))\n",
        "print(string(\"data\"))\n"
      ],
      "execution_count": null,
      "outputs": [
        {
          "output_type": "stream",
          "text": [
            "online classes\n",
            "atad\n"
          ],
          "name": "stdout"
        }
      ]
    },
    {
      "cell_type": "markdown",
      "metadata": {
        "id": "JmcQ_sTysXQA",
        "colab_type": "text"
      },
      "source": [
        "9. Write a Python program to convert all units of time into seconds."
      ]
    },
    {
      "cell_type": "code",
      "metadata": {
        "id": "k8RYDSg1sjKJ",
        "colab_type": "code",
        "colab": {
          "base_uri": "https://localhost:8080/",
          "height": 153
        },
        "outputId": "ea41fced-28d3-48c2-d37f-e7c6fe504de4"
      },
      "source": [
        "days=int(input(\"enter the days\"))*3600*24\n",
        "hours=int(input(\"enter the hours\"))*3600\n",
        "minutes=int(input(\"enter the minutes\"))*60\n",
        "seconds=int(input(\"enter the seconds\"))\n",
        "print(days)\n",
        "print(hours)\n",
        "print(minutes)\n",
        "print(seconds)"
      ],
      "execution_count": null,
      "outputs": [
        {
          "output_type": "stream",
          "text": [
            "enter the days2\n",
            "enter the hours23\n",
            "enter the minutes45\n",
            "enter the seconds87\n",
            "172800\n",
            "82800\n",
            "2700\n",
            "87\n"
          ],
          "name": "stdout"
        }
      ]
    },
    {
      "cell_type": "markdown",
      "metadata": {
        "id": "ULXbEF5Nt-AZ",
        "colab_type": "text"
      },
      "source": [
        "10. Write a Python program to sort three integers without using conditional statements and\n",
        "loops."
      ]
    },
    {
      "cell_type": "code",
      "metadata": {
        "id": "fhMOnJV-uDby",
        "colab_type": "code",
        "colab": {
          "base_uri": "https://localhost:8080/",
          "height": 85
        },
        "outputId": "a1009b3d-6664-4c5a-95ef-d2e6e8d44f90"
      },
      "source": [
        "a1=int(input(\"enter the number\"))\n",
        "a2=int(input(\"enter the number\"))\n",
        "a3=int(input(\"enter the number\"))\n",
        "x=min(a1,a2,a3)\n",
        "z=max(a1,a2,a3)\n",
        "y=(a1+a2+a3)-x-z\n",
        "print(x,y,z)"
      ],
      "execution_count": null,
      "outputs": [
        {
          "output_type": "stream",
          "text": [
            "enter the number3\n",
            "enter the number7\n",
            "enter the number4\n",
            "3 4 7\n"
          ],
          "name": "stdout"
        }
      ]
    },
    {
      "cell_type": "markdown",
      "metadata": {
        "id": "rirK-vvuuGR0",
        "colab_type": "text"
      },
      "source": [
        "11. Write a Python program to get the details of the math module."
      ]
    },
    {
      "cell_type": "code",
      "metadata": {
        "id": "ffGT1xqWwNiu",
        "colab_type": "code",
        "colab": {
          "base_uri": "https://localhost:8080/",
          "height": 54
        },
        "outputId": "67de9133-9770-4e0b-8072-d730a6ee59d2"
      },
      "source": [
        "import math\n",
        "print(dir(math))"
      ],
      "execution_count": null,
      "outputs": [
        {
          "output_type": "stream",
          "text": [
            "['__doc__', '__loader__', '__name__', '__package__', '__spec__', 'acos', 'acosh', 'asin', 'asinh', 'atan', 'atan2', 'atanh', 'ceil', 'copysign', 'cos', 'cosh', 'degrees', 'e', 'erf', 'erfc', 'exp', 'expm1', 'fabs', 'factorial', 'floor', 'fmod', 'frexp', 'fsum', 'gamma', 'gcd', 'hypot', 'inf', 'isclose', 'isfinite', 'isinf', 'isnan', 'ldexp', 'lgamma', 'log', 'log10', 'log1p', 'log2', 'modf', 'nan', 'pi', 'pow', 'radians', 'sin', 'sinh', 'sqrt', 'tan', 'tanh', 'tau', 'trunc']\n"
          ],
          "name": "stdout"
        }
      ]
    },
    {
      "cell_type": "markdown",
      "metadata": {
        "id": "VB5PoVCzuK5g",
        "colab_type": "text"
      },
      "source": [
        "12. Write a Python program to concatenate N strings."
      ]
    },
    {
      "cell_type": "code",
      "metadata": {
        "id": "BiZWtcKguZoy",
        "colab_type": "code",
        "colab": {
          "base_uri": "https://localhost:8080/",
          "height": 68
        },
        "outputId": "6e0fdae9-53a9-4a9f-dd0e-a844913c0966"
      },
      "source": [
        "str1=input(str(\"enter the string\"))\n",
        "str2=input(str(\"enter the string\"))\n",
        "new_string=str1+str2\n",
        "print(new_string)\n"
      ],
      "execution_count": null,
      "outputs": [
        {
          "output_type": "stream",
          "text": [
            "enter the stringhi\n",
            "enter the stringhlo\n",
            "hihlo\n"
          ],
          "name": "stdout"
        }
      ]
    }
  ]
}